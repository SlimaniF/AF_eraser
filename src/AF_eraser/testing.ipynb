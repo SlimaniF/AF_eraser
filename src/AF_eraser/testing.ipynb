{
 "cells": [
  {
   "cell_type": "code",
   "execution_count": 1,
   "id": "abeeff4e",
   "metadata": {},
   "outputs": [],
   "source": [
    "import os\n",
    "import numpy as np\n",
    "from scipy.optimize import nnls\n",
    "from pbwrap.utils import open_image"
   ]
  },
  {
   "cell_type": "markdown",
   "id": "ee1918f8",
   "metadata": {},
   "source": [
    "# Load example image"
   ]
  },
  {
   "cell_type": "code",
   "execution_count": 2,
   "id": "40808fa8",
   "metadata": {},
   "outputs": [
    {
     "data": {
      "text/plain": [
       "['scan_006_CPS1_CDKN1A_002_ROI.tif #2.tif',\n",
       " 'scan_006_dis_ASS1_CTNNB1_002_ROI.tif #3.tif',\n",
       " 'scan_006_dis_2F2_CCND1_002_ROI.tif #3.tif',\n",
       " 'scan_007_dis_CPS_CDKN1A_002_ROI.tif #2.tif',\n",
       " 'scan_007_dis_CPS_CDKN1A_002_ROI.tif #3.tif',\n",
       " 'scan_006_dis_2F2_CCND1_002_ROI.tif #2.tif',\n",
       " 'scan_006_ASS1_CTNNB1_002_ROI.tif #2.tif',\n",
       " 'scan_006_dis_ASS1_CTNNB1_002_ROI.tif #2.tif',\n",
       " 'scan_006_CPS1_CDKN1A_002_ROI.tif #3.tif',\n",
       " 'scan_006_ASS1_CTNNB1_002_ROI.tif #3.tif']"
      ]
     },
     "execution_count": 2,
     "metadata": {},
     "output_type": "execute_result"
    }
   ],
   "source": [
    "PATH = \"/home/floric/Documents/fish_images/AF_eraser/Data_Carolina/\"\n",
    "images_filenames = os.listdir(PATH)\n",
    "images_filenames\n"
   ]
  },
  {
   "cell_type": "code",
   "execution_count": 3,
   "id": "1450ac0e",
   "metadata": {},
   "outputs": [],
   "source": [
    "signal_filename = 'scan_006_ASS1_CTNNB1_002_ROI.tif #3.tif'\n",
    "af_filename = 'scan_006_dis_ASS1_CTNNB1_002_ROI.tif #3.tif'"
   ]
  },
  {
   "cell_type": "code",
   "execution_count": 4,
   "id": "0009ca3c",
   "metadata": {},
   "outputs": [
    {
     "data": {
      "text/plain": [
       "((65, 2048, 2048), (65, 2048, 2048))"
      ]
     },
     "execution_count": 4,
     "metadata": {},
     "output_type": "execute_result"
    }
   ],
   "source": [
    "signal_image = open_image(PATH + signal_filename).squeeze()\n",
    "af_image = open_image(PATH + af_filename).squeeze()\n",
    "\n",
    "signal_image.shape, af_image.shape"
   ]
  },
  {
   "cell_type": "code",
   "execution_count": 5,
   "id": "b49a602f",
   "metadata": {},
   "outputs": [],
   "source": [
    "images = [signal_image, af_image]"
   ]
  },
  {
   "cell_type": "markdown",
   "id": "8de6de39",
   "metadata": {},
   "source": [
    "# API testing"
   ]
  },
  {
   "cell_type": "code",
   "execution_count": null,
   "id": "b2f2e4f9",
   "metadata": {},
   "outputs": [
    {
     "ename": "",
     "evalue": "",
     "output_type": "error",
     "traceback": [
      "\u001b[1;31mThe Kernel crashed while executing code in the current cell or a previous cell. \n",
      "\u001b[1;31mPlease review the code in the cell(s) to identify a possible cause of the failure. \n",
      "\u001b[1;31mClick <a href='https://aka.ms/vscodeJupyterKernelCrash'>here</a> for more info. \n",
      "\u001b[1;31mView Jupyter <a href='command:jupyter.viewOutput'>log</a> for further details."
     ]
    }
   ],
   "source": [
    "from NMF import remove_autofluorescence_NMF"
   ]
  },
  {
   "cell_type": "code",
   "execution_count": null,
   "id": "8feff9e9",
   "metadata": {},
   "outputs": [],
   "source": [
    "signal, af, residuals = remove_autofluorescence_NMF(\n",
    "    images= images,\n",
    "    exposure_time = 100,\n",
    "    gaussian_kernel = 3,\n",
    "    max_iteration=100\n",
    ")"
   ]
  }
 ],
 "metadata": {
  "kernelspec": {
   "display_name": "Python 3.12 (dev)",
   "language": "python",
   "name": "3.12_dev"
  },
  "language_info": {
   "codemirror_mode": {
    "name": "ipython",
    "version": 3
   },
   "file_extension": ".py",
   "mimetype": "text/x-python",
   "name": "python",
   "nbconvert_exporter": "python",
   "pygments_lexer": "ipython3",
   "version": "3.12.3"
  }
 },
 "nbformat": 4,
 "nbformat_minor": 5
}
