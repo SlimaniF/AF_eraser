{
 "cells": [
  {
   "cell_type": "code",
   "execution_count": 4,
   "id": "abeeff4e",
   "metadata": {},
   "outputs": [],
   "source": [
    "import os\n",
    "import numpy as np\n",
    "from scipy.optimize import nnls\n",
    "from pbwrap.utils import open_image"
   ]
  },
  {
   "cell_type": "markdown",
   "id": "ee1918f8",
   "metadata": {},
   "source": [
    "# Load example image"
   ]
  },
  {
   "cell_type": "code",
   "execution_count": 5,
   "id": "40808fa8",
   "metadata": {},
   "outputs": [],
   "source": [
    "PATH = \"/home/floric/Documents/fish_images/\"\n",
    "images_filenames = os.listdir(PATH)\n",
    "images_filenames\n",
    "\n",
    "filename = images_filenames[0]"
   ]
  },
  {
   "cell_type": "code",
   "execution_count": 6,
   "id": "0009ca3c",
   "metadata": {},
   "outputs": [
    {
     "data": {
      "text/plain": [
       "(19, 626, 626)"
      ]
     },
     "execution_count": 6,
     "metadata": {},
     "output_type": "execute_result"
    }
   ],
   "source": [
    "image = open_image(PATH + filename).squeeze()\n",
    "image = image[0]\n",
    "image.shape"
   ]
  },
  {
   "cell_type": "markdown",
   "id": "133cc55e",
   "metadata": {},
   "source": [
    "# 1. INPUT\n",
    "\n",
    "From function call we need :  \n",
    "* Images to correct : list[np.ndarray]\n",
    "* exposure_time : int or list[int]\n",
    "\n",
    "from this to initialize our problem we need to flatten images to correct on put those into a MxN matrix where *M* is the number of image in the list and *N* the number of pixel in this images (must be the same).\n",
    "Then create the diagonal matrix MxM "
   ]
  },
  {
   "cell_type": "code",
   "execution_count": 29,
   "id": "1f8c64b7",
   "metadata": {},
   "outputs": [],
   "source": [
    "def _initialize_matrix(\n",
    "    images : np.ndarray | list[np.ndarray],\n",
    "    exposure_time : int | list[int]\n",
    ") :\n",
    "\n",
    "    if isinstance(images, list) :\n",
    "        if not all([isinstance(im,np.ndarray) for im in images]) : raise TypeError(\"All list element must be ndarrays.\")\n",
    "        length_list = [im.size for im in images]\n",
    "        if min(length_list) != max(length_list) : raise ValueError(\"Passed images must have same shape\")\n",
    "    elif isinstance(images, np.ndarray) :\n",
    "        images = [images]\n",
    "    else :\n",
    "        raise TypeError(\"Wrong type for images. Expected list or ndarray got {}\".format(type(images)))\n",
    "    \n",
    "    if isinstance(exposure_time, list) :\n",
    "        if not all([isinstance(im,int) for im in images]) : raise TypeError(\"All list element must be ints.\")\n",
    "    elif isinstance(exposure_time, int) :\n",
    "        exposure_time = [exposure_time]\n",
    "    else :\n",
    "        raise TypeError(\"Wrong type for exposure time. Expected int or list got {}\".format(type(exposure_time)))\n",
    "        \n",
    "    # Def A matrix : observed signal matrix\n",
    "    flatten_images = [im.flatten() for im in images]\n",
    "    observed_matrix = np.array(flatten_images, dtype=np.uint)\n",
    "\n",
    "    images_number, pixel_number =  observed_matrix.shape\n",
    "\n",
    "    # Def E matrix : Exposure time matrix\n",
    "    exposure_matrix = np.diag(exposure_time)\n",
    "\n",
    "    #Init matrix C : system output\n",
    "    decomposed_signal_matrix = np.ones(shape=(2,pixel_number), dtype=np.uint)\n",
    "\n",
    "    #Init matrix B : linear coefficient\n",
    "    linear_coef_matrix = np.ones(shape=(images_number,2),dtype=np.uint)\n",
    "\n",
    "    #Init matrix D : Dark current\n",
    "    dark_current_matrix = np.ones(shape=(images_number,pixel_number))\n",
    "\n",
    "    #Init matrix N : Noise\n",
    "    noise_matrix = np.ones(shape=(images_number,pixel_number))\n",
    "\n",
    "\n",
    "    return observed_matrix, exposure_matrix, decomposed_signal_matrix, linear_coef_matrix, dark_current_matrix, noise_matrix"
   ]
  },
  {
   "cell_type": "code",
   "execution_count": 31,
   "id": "516919c6",
   "metadata": {},
   "outputs": [
    {
     "data": {
      "text/plain": [
       "array([[301., 301., 301., ..., 301., 301., 301.]], shape=(1, 7445644))"
      ]
     },
     "execution_count": 31,
     "metadata": {},
     "output_type": "execute_result"
    }
   ],
   "source": [
    "A,E,B,C,D,N = _initialize_matrix(images=image, exposure_time= 100)\n",
    "np.dot(E,np.dot(C,B) + D) + N"
   ]
  }
 ],
 "metadata": {
  "kernelspec": {
   "display_name": "Python 3.12 (dev)",
   "language": "python",
   "name": "3.12_dev"
  },
  "language_info": {
   "codemirror_mode": {
    "name": "ipython",
    "version": 3
   },
   "file_extension": ".py",
   "mimetype": "text/x-python",
   "name": "python",
   "nbconvert_exporter": "python",
   "pygments_lexer": "ipython3",
   "version": "3.12.3"
  }
 },
 "nbformat": 4,
 "nbformat_minor": 5
}
