{
 "cells": [
  {
   "cell_type": "code",
   "execution_count": 1,
   "id": "abeeff4e",
   "metadata": {},
   "outputs": [],
   "source": [
    "import os\n",
    "import numpy as np\n",
    "from scipy.optimize import nnls\n",
    "from pbwrap.utils import open_image"
   ]
  },
  {
   "cell_type": "markdown",
   "id": "ee1918f8",
   "metadata": {},
   "source": [
    "# Load example image"
   ]
  },
  {
   "cell_type": "code",
   "execution_count": 2,
   "id": "40808fa8",
   "metadata": {},
   "outputs": [
    {
     "data": {
      "text/plain": [
       "['Col P0 SPX1 probe Root FISH Im4.czi',\n",
       " 'Quantif_centrosome',\n",
       " 'signal.tif',\n",
       " 'AF_eraser',\n",
       " 'Col P0 SPX1 probe Root FISH Im7.czi',\n",
       " 'af.tif',\n",
       " 'Col P0 SPX1 probe Root FISH Im6.czi',\n",
       " 'Col P0 SPX1 probe Root FISH Im5.czi',\n",
       " 'transfer_10932528_files_12e3cdbe.tar']"
      ]
     },
     "execution_count": 2,
     "metadata": {},
     "output_type": "execute_result"
    }
   ],
   "source": [
    "PATH = \"/home/floric/Documents/fish_images/\"\n",
    "images_filenames = os.listdir(PATH)\n",
    "images_filenames\n"
   ]
  },
  {
   "cell_type": "code",
   "execution_count": 3,
   "id": "1450ac0e",
   "metadata": {},
   "outputs": [],
   "source": [
    "signal_filename = 'Col P0 SPX1 probe Root FISH Im6.czi'"
   ]
  },
  {
   "cell_type": "code",
   "execution_count": 4,
   "id": "0009ca3c",
   "metadata": {},
   "outputs": [
    {
     "data": {
      "text/plain": [
       "(3, 39, 512, 512)"
      ]
     },
     "execution_count": 4,
     "metadata": {},
     "output_type": "execute_result"
    }
   ],
   "source": [
    "signal_image = open_image(PATH + signal_filename).squeeze()\n",
    "signal_image.shape"
   ]
  },
  {
   "cell_type": "code",
   "execution_count": 5,
   "id": "b49a602f",
   "metadata": {},
   "outputs": [],
   "source": [
    "images = [chan for chan in signal_image]"
   ]
  },
  {
   "cell_type": "markdown",
   "id": "8de6de39",
   "metadata": {},
   "source": [
    "# API testing"
   ]
  },
  {
   "cell_type": "code",
   "execution_count": 6,
   "id": "b2f2e4f9",
   "metadata": {},
   "outputs": [],
   "source": [
    "from NMF import remove_autofluorescence_NMF\n",
    "from NMF import (\n",
    "    _estimate_target_matrix,\n",
    "    _apply_gaussian_filter_on_target_matrix,\n",
    "    _acess_convergence,\n",
    "    _compute_error,\n",
    "    _extract_resulting_signals,\n",
    "    _estimate_coef_and_darkcurrent,\n",
    "    _initialize_matrix,\n",
    "    \n",
    ")"
   ]
  },
  {
   "cell_type": "code",
   "execution_count": 7,
   "id": "84459715",
   "metadata": {},
   "outputs": [
    {
     "name": "stdout",
     "output_type": "stream",
     "text": [
      "shape :  (39, 512, 512)\n",
      "decomposed_signal_matrix, shape :  (2, 10223616)\n",
      "iter :  0\n"
     ]
    },
    {
     "name": "stderr",
     "output_type": "stream",
     "text": [
      "B and D estimate: 100%|██████████| 3/3 [00:01<00:00,  2.05it/s]\n"
     ]
    },
    {
     "name": "stdout",
     "output_type": "stream",
     "text": [
      "decomposed_signal_matrix, shape :  (2, 10223616)\n",
      "iter :  1\n"
     ]
    },
    {
     "name": "stderr",
     "output_type": "stream",
     "text": [
      "B and D estimate: 100%|██████████| 3/3 [00:01<00:00,  2.42it/s]\n"
     ]
    },
    {
     "name": "stdout",
     "output_type": "stream",
     "text": [
      "decomposed_signal_matrix, shape :  (2, 10223616)\n",
      "iter :  2\n"
     ]
    },
    {
     "name": "stderr",
     "output_type": "stream",
     "text": [
      "B and D estimate: 100%|██████████| 3/3 [00:01<00:00,  2.75it/s]\n"
     ]
    },
    {
     "name": "stdout",
     "output_type": "stream",
     "text": [
      "decomposed_signal_matrix, shape :  (2, 10223616)\n",
      "iter :  3\n"
     ]
    },
    {
     "name": "stderr",
     "output_type": "stream",
     "text": [
      "B and D estimate: 100%|██████████| 3/3 [00:01<00:00,  2.71it/s]\n"
     ]
    },
    {
     "name": "stdout",
     "output_type": "stream",
     "text": [
      "decomposed_signal_matrix, shape :  (2, 10223616)\n",
      "iter :  4\n"
     ]
    },
    {
     "name": "stderr",
     "output_type": "stream",
     "text": [
      "B and D estimate: 100%|██████████| 3/3 [00:01<00:00,  2.13it/s]\n"
     ]
    },
    {
     "name": "stdout",
     "output_type": "stream",
     "text": [
      "decomposed_signal_matrix, shape :  (2, 10223616)\n",
      "iter :  5\n"
     ]
    },
    {
     "name": "stderr",
     "output_type": "stream",
     "text": [
      "B and D estimate: 100%|██████████| 3/3 [00:01<00:00,  2.64it/s]\n"
     ]
    },
    {
     "name": "stdout",
     "output_type": "stream",
     "text": [
      "decomposed_signal_matrix, shape :  (2, 10223616)\n",
      "iter :  6\n"
     ]
    },
    {
     "name": "stderr",
     "output_type": "stream",
     "text": [
      "B and D estimate: 100%|██████████| 3/3 [00:01<00:00,  2.39it/s]\n"
     ]
    },
    {
     "name": "stdout",
     "output_type": "stream",
     "text": [
      "decomposed_signal_matrix, shape :  (2, 10223616)\n",
      "iter :  7\n"
     ]
    },
    {
     "name": "stderr",
     "output_type": "stream",
     "text": [
      "B and D estimate: 100%|██████████| 3/3 [00:01<00:00,  2.71it/s]\n"
     ]
    },
    {
     "name": "stdout",
     "output_type": "stream",
     "text": [
      "decomposed_signal_matrix, shape :  (2, 10223616)\n",
      "iter :  8\n"
     ]
    },
    {
     "name": "stderr",
     "output_type": "stream",
     "text": [
      "B and D estimate: 100%|██████████| 3/3 [00:01<00:00,  2.71it/s]\n"
     ]
    },
    {
     "name": "stdout",
     "output_type": "stream",
     "text": [
      "decomposed_signal_matrix, shape :  (2, 10223616)\n",
      "iter :  9\n"
     ]
    },
    {
     "name": "stderr",
     "output_type": "stream",
     "text": [
      "B and D estimate: 100%|██████████| 3/3 [00:01<00:00,  2.17it/s]\n"
     ]
    },
    {
     "name": "stdout",
     "output_type": "stream",
     "text": [
      "decomposed_signal_matrix, shape :  (2, 10223616)\n",
      "iter :  10\n"
     ]
    },
    {
     "name": "stderr",
     "output_type": "stream",
     "text": [
      "B and D estimate: 100%|██████████| 3/3 [00:01<00:00,  2.61it/s]\n"
     ]
    },
    {
     "name": "stdout",
     "output_type": "stream",
     "text": [
      "decomposed_signal_matrix, shape :  (2, 10223616)\n",
      "iter :  11\n"
     ]
    },
    {
     "name": "stderr",
     "output_type": "stream",
     "text": [
      "B and D estimate: 100%|██████████| 3/3 [00:01<00:00,  2.73it/s]\n"
     ]
    },
    {
     "name": "stdout",
     "output_type": "stream",
     "text": [
      "decomposed_signal_matrix, shape :  (2, 10223616)\n",
      "iter :  12\n"
     ]
    },
    {
     "name": "stderr",
     "output_type": "stream",
     "text": [
      "B and D estimate: 100%|██████████| 3/3 [00:01<00:00,  2.08it/s]\n"
     ]
    },
    {
     "name": "stdout",
     "output_type": "stream",
     "text": [
      "decomposed_signal_matrix, shape :  (2, 10223616)\n",
      "iter :  13\n"
     ]
    },
    {
     "name": "stderr",
     "output_type": "stream",
     "text": [
      "B and D estimate: 100%|██████████| 3/3 [00:01<00:00,  2.46it/s]\n"
     ]
    },
    {
     "name": "stdout",
     "output_type": "stream",
     "text": [
      "decomposed_signal_matrix, shape :  (2, 10223616)\n",
      "iter :  14\n"
     ]
    },
    {
     "name": "stderr",
     "output_type": "stream",
     "text": [
      "B and D estimate: 100%|██████████| 3/3 [00:01<00:00,  2.08it/s]\n"
     ]
    },
    {
     "name": "stdout",
     "output_type": "stream",
     "text": [
      "decomposed_signal_matrix, shape :  (2, 10223616)\n",
      "iter :  15\n"
     ]
    },
    {
     "name": "stderr",
     "output_type": "stream",
     "text": [
      "B and D estimate: 100%|██████████| 3/3 [00:01<00:00,  2.47it/s]\n"
     ]
    },
    {
     "name": "stdout",
     "output_type": "stream",
     "text": [
      "decomposed_signal_matrix, shape :  (2, 10223616)\n",
      "iter :  16\n"
     ]
    },
    {
     "name": "stderr",
     "output_type": "stream",
     "text": [
      "B and D estimate: 100%|██████████| 3/3 [00:01<00:00,  1.91it/s]\n"
     ]
    },
    {
     "name": "stdout",
     "output_type": "stream",
     "text": [
      "decomposed_signal_matrix, shape :  (2, 10223616)\n",
      "iter :  17\n"
     ]
    },
    {
     "name": "stderr",
     "output_type": "stream",
     "text": [
      "B and D estimate: 100%|██████████| 3/3 [00:01<00:00,  1.87it/s]\n"
     ]
    },
    {
     "name": "stdout",
     "output_type": "stream",
     "text": [
      "decomposed_signal_matrix, shape :  (2, 10223616)\n",
      "iter :  18\n"
     ]
    },
    {
     "name": "stderr",
     "output_type": "stream",
     "text": [
      "B and D estimate: 100%|██████████| 3/3 [00:01<00:00,  2.52it/s]\n"
     ]
    },
    {
     "name": "stdout",
     "output_type": "stream",
     "text": [
      "decomposed_signal_matrix, shape :  (2, 10223616)\n",
      "iter :  19\n"
     ]
    },
    {
     "name": "stderr",
     "output_type": "stream",
     "text": [
      "B and D estimate: 100%|██████████| 3/3 [00:01<00:00,  1.83it/s]\n"
     ]
    },
    {
     "name": "stdout",
     "output_type": "stream",
     "text": [
      "decomposed_signal_matrix, shape :  (2, 10223616)\n",
      "iter :  20\n"
     ]
    },
    {
     "name": "stderr",
     "output_type": "stream",
     "text": [
      "B and D estimate: 100%|██████████| 3/3 [00:01<00:00,  1.76it/s]\n"
     ]
    },
    {
     "name": "stdout",
     "output_type": "stream",
     "text": [
      "decomposed_signal_matrix, shape :  (2, 10223616)\n",
      "iter :  21\n"
     ]
    },
    {
     "name": "stderr",
     "output_type": "stream",
     "text": [
      "B and D estimate: 100%|██████████| 3/3 [00:01<00:00,  2.47it/s]\n"
     ]
    },
    {
     "name": "stdout",
     "output_type": "stream",
     "text": [
      "decomposed_signal_matrix, shape :  (2, 10223616)\n",
      "iter :  22\n"
     ]
    },
    {
     "name": "stderr",
     "output_type": "stream",
     "text": [
      "B and D estimate: 100%|██████████| 3/3 [00:01<00:00,  2.49it/s]\n"
     ]
    },
    {
     "name": "stdout",
     "output_type": "stream",
     "text": [
      "decomposed_signal_matrix, shape :  (2, 10223616)\n",
      "iter :  23\n"
     ]
    },
    {
     "name": "stderr",
     "output_type": "stream",
     "text": [
      "B and D estimate: 100%|██████████| 3/3 [00:01<00:00,  2.46it/s]\n"
     ]
    },
    {
     "name": "stdout",
     "output_type": "stream",
     "text": [
      "decomposed_signal_matrix, shape :  (2, 10223616)\n",
      "iter :  24\n"
     ]
    },
    {
     "name": "stderr",
     "output_type": "stream",
     "text": [
      "B and D estimate: 100%|██████████| 3/3 [00:01<00:00,  2.03it/s]\n"
     ]
    },
    {
     "name": "stdout",
     "output_type": "stream",
     "text": [
      "decomposed_signal_matrix, shape :  (2, 10223616)\n",
      "iter :  25\n"
     ]
    },
    {
     "name": "stderr",
     "output_type": "stream",
     "text": [
      "B and D estimate: 100%|██████████| 3/3 [00:01<00:00,  2.48it/s]\n"
     ]
    },
    {
     "name": "stdout",
     "output_type": "stream",
     "text": [
      "decomposed_signal_matrix, shape :  (2, 10223616)\n",
      "iter :  26\n"
     ]
    },
    {
     "name": "stderr",
     "output_type": "stream",
     "text": [
      "B and D estimate: 100%|██████████| 3/3 [00:01<00:00,  2.47it/s]\n"
     ]
    },
    {
     "name": "stdout",
     "output_type": "stream",
     "text": [
      "decomposed_signal_matrix, shape :  (2, 10223616)\n",
      "iter :  27\n"
     ]
    },
    {
     "name": "stderr",
     "output_type": "stream",
     "text": [
      "B and D estimate: 100%|██████████| 3/3 [00:01<00:00,  2.31it/s]\n"
     ]
    },
    {
     "name": "stdout",
     "output_type": "stream",
     "text": [
      "decomposed_signal_matrix, shape :  (2, 10223616)\n",
      "iter :  28\n"
     ]
    },
    {
     "name": "stderr",
     "output_type": "stream",
     "text": [
      "B and D estimate: 100%|██████████| 3/3 [00:01<00:00,  2.39it/s]\n"
     ]
    },
    {
     "name": "stdout",
     "output_type": "stream",
     "text": [
      "decomposed_signal_matrix, shape :  (2, 10223616)\n",
      "iter :  29\n"
     ]
    },
    {
     "name": "stderr",
     "output_type": "stream",
     "text": [
      "B and D estimate: 100%|██████████| 3/3 [00:01<00:00,  2.01it/s]\n"
     ]
    },
    {
     "name": "stdout",
     "output_type": "stream",
     "text": [
      "decomposed_signal_matrix, shape :  (2, 10223616)\n",
      "iter :  30\n"
     ]
    },
    {
     "name": "stderr",
     "output_type": "stream",
     "text": [
      "B and D estimate: 100%|██████████| 3/3 [00:01<00:00,  2.03it/s]\n"
     ]
    },
    {
     "name": "stdout",
     "output_type": "stream",
     "text": [
      "decomposed_signal_matrix, shape :  (2, 10223616)\n",
      "iter :  31\n"
     ]
    },
    {
     "name": "stderr",
     "output_type": "stream",
     "text": [
      "B and D estimate: 100%|██████████| 3/3 [00:01<00:00,  2.38it/s]\n"
     ]
    },
    {
     "name": "stdout",
     "output_type": "stream",
     "text": [
      "decomposed_signal_matrix, shape :  (2, 10223616)\n",
      "iter :  32\n"
     ]
    },
    {
     "name": "stderr",
     "output_type": "stream",
     "text": [
      "B and D estimate: 100%|██████████| 3/3 [00:01<00:00,  2.01it/s]\n"
     ]
    },
    {
     "name": "stdout",
     "output_type": "stream",
     "text": [
      "decomposed_signal_matrix, shape :  (2, 10223616)\n",
      "iter :  33\n"
     ]
    },
    {
     "name": "stderr",
     "output_type": "stream",
     "text": [
      "B and D estimate: 100%|██████████| 3/3 [00:01<00:00,  2.31it/s]\n"
     ]
    },
    {
     "name": "stdout",
     "output_type": "stream",
     "text": [
      "decomposed_signal_matrix, shape :  (2, 10223616)\n",
      "iter :  34\n"
     ]
    },
    {
     "name": "stderr",
     "output_type": "stream",
     "text": [
      "B and D estimate: 100%|██████████| 3/3 [00:01<00:00,  2.47it/s]\n"
     ]
    },
    {
     "name": "stdout",
     "output_type": "stream",
     "text": [
      "decomposed_signal_matrix, shape :  (2, 10223616)\n",
      "iter :  35\n"
     ]
    },
    {
     "name": "stderr",
     "output_type": "stream",
     "text": [
      "B and D estimate: 100%|██████████| 3/3 [00:01<00:00,  2.44it/s]\n"
     ]
    },
    {
     "name": "stdout",
     "output_type": "stream",
     "text": [
      "decomposed_signal_matrix, shape :  (2, 10223616)\n",
      "iter :  36\n"
     ]
    },
    {
     "name": "stderr",
     "output_type": "stream",
     "text": [
      "B and D estimate: 100%|██████████| 3/3 [00:01<00:00,  2.41it/s]\n"
     ]
    },
    {
     "name": "stdout",
     "output_type": "stream",
     "text": [
      "decomposed_signal_matrix, shape :  (2, 10223616)\n",
      "iter :  37\n"
     ]
    },
    {
     "name": "stderr",
     "output_type": "stream",
     "text": [
      "B and D estimate: 100%|██████████| 3/3 [00:01<00:00,  2.43it/s]\n"
     ]
    },
    {
     "name": "stdout",
     "output_type": "stream",
     "text": [
      "decomposed_signal_matrix, shape :  (2, 10223616)\n",
      "iter :  38\n"
     ]
    },
    {
     "name": "stderr",
     "output_type": "stream",
     "text": [
      "B and D estimate: 100%|██████████| 3/3 [00:01<00:00,  2.15it/s]\n"
     ]
    },
    {
     "name": "stdout",
     "output_type": "stream",
     "text": [
      "decomposed_signal_matrix, shape :  (2, 10223616)\n",
      "iter :  39\n"
     ]
    },
    {
     "name": "stderr",
     "output_type": "stream",
     "text": [
      "B and D estimate: 100%|██████████| 3/3 [00:01<00:00,  2.45it/s]\n"
     ]
    },
    {
     "name": "stdout",
     "output_type": "stream",
     "text": [
      "decomposed_signal_matrix, shape :  (2, 10223616)\n",
      "iter :  40\n"
     ]
    },
    {
     "name": "stderr",
     "output_type": "stream",
     "text": [
      "B and D estimate: 100%|██████████| 3/3 [00:01<00:00,  2.24it/s]\n"
     ]
    },
    {
     "name": "stdout",
     "output_type": "stream",
     "text": [
      "decomposed_signal_matrix, shape :  (2, 10223616)\n",
      "iter :  41\n"
     ]
    },
    {
     "name": "stderr",
     "output_type": "stream",
     "text": [
      "B and D estimate: 100%|██████████| 3/3 [00:01<00:00,  2.47it/s]\n"
     ]
    },
    {
     "name": "stdout",
     "output_type": "stream",
     "text": [
      "decomposed_signal_matrix, shape :  (2, 10223616)\n",
      "iter :  42\n"
     ]
    },
    {
     "name": "stderr",
     "output_type": "stream",
     "text": [
      "B and D estimate: 100%|██████████| 3/3 [00:01<00:00,  2.44it/s]\n"
     ]
    },
    {
     "name": "stdout",
     "output_type": "stream",
     "text": [
      "decomposed_signal_matrix, shape :  (2, 10223616)\n",
      "iter :  43\n"
     ]
    },
    {
     "name": "stderr",
     "output_type": "stream",
     "text": [
      "B and D estimate: 100%|██████████| 3/3 [00:01<00:00,  2.20it/s]\n"
     ]
    },
    {
     "name": "stdout",
     "output_type": "stream",
     "text": [
      "decomposed_signal_matrix, shape :  (2, 10223616)\n",
      "iter :  44\n"
     ]
    },
    {
     "name": "stderr",
     "output_type": "stream",
     "text": [
      "B and D estimate: 100%|██████████| 3/3 [00:01<00:00,  2.59it/s]\n"
     ]
    },
    {
     "name": "stdout",
     "output_type": "stream",
     "text": [
      "decomposed_signal_matrix, shape :  (2, 10223616)\n",
      "iter :  45\n"
     ]
    },
    {
     "name": "stderr",
     "output_type": "stream",
     "text": [
      "B and D estimate: 100%|██████████| 3/3 [00:01<00:00,  2.26it/s]\n"
     ]
    },
    {
     "name": "stdout",
     "output_type": "stream",
     "text": [
      "decomposed_signal_matrix, shape :  (2, 10223616)\n",
      "iter :  46\n"
     ]
    },
    {
     "name": "stderr",
     "output_type": "stream",
     "text": [
      "B and D estimate: 100%|██████████| 3/3 [00:01<00:00,  2.57it/s]\n"
     ]
    },
    {
     "name": "stdout",
     "output_type": "stream",
     "text": [
      "decomposed_signal_matrix, shape :  (2, 10223616)\n",
      "iter :  47\n"
     ]
    },
    {
     "name": "stderr",
     "output_type": "stream",
     "text": [
      "B and D estimate: 100%|██████████| 3/3 [00:01<00:00,  2.18it/s]\n"
     ]
    },
    {
     "name": "stdout",
     "output_type": "stream",
     "text": [
      "decomposed_signal_matrix, shape :  (2, 10223616)\n",
      "iter :  48\n"
     ]
    },
    {
     "name": "stderr",
     "output_type": "stream",
     "text": [
      "B and D estimate: 100%|██████████| 3/3 [00:01<00:00,  2.07it/s]\n"
     ]
    },
    {
     "name": "stdout",
     "output_type": "stream",
     "text": [
      "decomposed_signal_matrix, shape :  (2, 10223616)\n",
      "iter :  49\n"
     ]
    },
    {
     "name": "stderr",
     "output_type": "stream",
     "text": [
      "B and D estimate: 100%|██████████| 3/3 [00:01<00:00,  2.51it/s]\n"
     ]
    },
    {
     "name": "stdout",
     "output_type": "stream",
     "text": [
      "shape :  (39, 512, 512)\n",
      "decomposed_signal_matrix, shape :  (2, 10223616)\n"
     ]
    }
   ],
   "source": [
    "signal, af, residuals = remove_autofluorescence_NMF(\n",
    "    images= images,\n",
    "    exposure_time = 100,\n",
    "    gaussian_kernel = 5,\n",
    "    max_iteration=50\n",
    ")"
   ]
  },
  {
   "cell_type": "markdown",
   "id": "e0e0b39d",
   "metadata": {},
   "source": [
    "# Output results"
   ]
  },
  {
   "cell_type": "code",
   "execution_count": 8,
   "id": "3372bcbb",
   "metadata": {},
   "outputs": [],
   "source": [
    "import bigfish.stack as stack\n",
    "stack.save_image(signal, PATH + \"/signal.tif\")\n",
    "stack.save_image(af, PATH + \"/af.tif\")"
   ]
  },
  {
   "cell_type": "markdown",
   "id": "262f1a19",
   "metadata": {},
   "source": [
    "# Napari results"
   ]
  },
  {
   "cell_type": "code",
   "execution_count": 9,
   "id": "5f16650b",
   "metadata": {},
   "outputs": [],
   "source": [
    "%gui qt\n",
    "import napari"
   ]
  },
  {
   "cell_type": "code",
   "execution_count": 10,
   "id": "ae865f05",
   "metadata": {},
   "outputs": [
    {
     "data": {
      "text/plain": [
       "<Image layer 'signal' at 0x79bf0e59dbe0>"
      ]
     },
     "execution_count": 10,
     "metadata": {},
     "output_type": "execute_result"
    }
   ],
   "source": [
    "Viewer = napari.Viewer()\n",
    "Viewer.add_image(signal)"
   ]
  },
  {
   "cell_type": "markdown",
   "id": "71c8be1f",
   "metadata": {},
   "source": [
    "# Residual plot"
   ]
  },
  {
   "cell_type": "code",
   "execution_count": 11,
   "id": "6c7832b7",
   "metadata": {},
   "outputs": [],
   "source": [
    "import matplotlib.pyplot as plt"
   ]
  },
  {
   "cell_type": "code",
   "execution_count": 12,
   "id": "6482bec6",
   "metadata": {},
   "outputs": [
    {
     "data": {
      "text/plain": [
       "dict_keys(['decomposed_signal_matrix', 'dark_current_matrix', 'linear_coef_matrix'])"
      ]
     },
     "execution_count": 12,
     "metadata": {},
     "output_type": "execute_result"
    }
   ],
   "source": [
    "residuals.keys()"
   ]
  },
  {
   "cell_type": "code",
   "execution_count": 13,
   "id": "256302a7",
   "metadata": {},
   "outputs": [
    {
     "data": {
      "image/png": "[encoded data removed]",
      "text/plain": [
       "<Figure size 1000x3000 with 3 Axes>"
      ]
     },
     "metadata": {},
     "output_type": "display_data"
    }
   ],
   "source": [
    "fig = plt.figure(figsize=(10,30))\n",
    "a = fig.subplots(3,1)\n",
    "\n",
    "for key, ax in zip(residuals.keys(), a) :\n",
    "    data = residuals[key]\n",
    "    ax.plot(\n",
    "        np.arange(len(data)),\n",
    "        data\n",
    "    )\n",
    "    \n",
    "    ax.set_title(key)\n",
    "    ax.set_xlabel(\"iteration\")\n",
    "    ax.set_ylabel(\"residuals\")"
   ]
  }
 ],
 "metadata": {
  "kernelspec": {
   "display_name": "3.12_dev",
   "language": "python",
   "name": "python3"
  },
  "language_info": {
   "codemirror_mode": {
    "name": "ipython",
    "version": 3
   },
   "file_extension": ".py",
   "mimetype": "text/x-python",
   "name": "python",
   "nbconvert_exporter": "python",
   "pygments_lexer": "ipython3",
   "version": "3.12.3"
  }
 },
 "nbformat": 4,
 "nbformat_minor": 5
}
